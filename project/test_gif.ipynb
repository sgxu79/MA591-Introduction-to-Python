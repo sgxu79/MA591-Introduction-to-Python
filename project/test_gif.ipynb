{
 "cells": [
  {
   "cell_type": "markdown",
   "metadata": {},
   "source": [
    "# Bayesian Nonparamtric Quantile Regression "
   ]
  },
  {
   "cell_type": "markdown",
   "metadata": {},
   "source": [
    "## 1. Introduction"
   ]
  },
  {
   "cell_type": "markdown",
   "metadata": {},
   "source": [
    "In this project I will provide a full implementation of Bayesian nonparametric quantile regression using Neural Net and asymmetric Laplace likelihood. Estimation is carried out using Hamilton Monte Carlo with Dual Averaging. The algorithm is tested using a simulation study and is applied on a real dataset. "
   ]
  },
  {
   "cell_type": "code",
   "execution_count": 1,
   "metadata": {},
   "outputs": [],
   "source": [
    "import numpy as np\n",
    "from scipy.stats import norm\n",
    "import matplotlib.pyplot as plt\n",
    "from matplotlib import animation\n",
    "from pandas import read_csv\n",
    "from IPython.display import HTML"
   ]
  },
  {
   "cell_type": "markdown",
   "metadata": {},
   "source": [
    "Let $Q_\\tau(y|\\mathbf{x}_i)$ denotes the conditional $\\tau$ quantile of $y$ given the covariates $\\mathbf{x}_i$. To estimate $Q_\\tau(y|\\mathbf{x}_i)$, I assume the data follows i.i.d asymmetric Laplace distribution with skewness $\\tau$ and location modeled by a four layer neural network.\n",
    "$$\n",
    "y_i = g(\\mathbf{x}_i) + \\epsilon_i, \\ i=1,\\dots,n\n",
    "$$\n",
    "where\n",
    "$$\n",
    "f(\\epsilon_i) = \\frac{\\tau(1-\\tau)}{\\sigma}\\exp\\left(-\\frac{\\epsilon_i(\\tau-\\mathbf{1}_{\\epsilon_i<0})}{\\sigma}\\right)\n",
    "$$\n",
    "and\n",
    "$$\n",
    "g(\\mathbf{x}_i) = \\sum_{k=1}^K W^{(3)}_k\\phi\\left(\\sum_{j=1}^JW_{j,k}^{(2)}\\phi\\left(\\mathbf{W}^{(1)}_j\\cdot\\mathbf{x}_i+b^{(1)}_j\\right)+b^{(2)}_k\\right)+b^{(3)}\n",
    "$$\n",
    "I chose the activation function $\\phi(\\cdot)$ as the hyperbolic tangent function. "
   ]
  },
  {
   "cell_type": "code",
   "execution_count": 2,
   "metadata": {},
   "outputs": [],
   "source": [
    "def asymm_laplace (y, mu = 0, sigma = 1, tau = 0.5, log = False):\n",
    "    \"\"\"\n",
    "    Asymmetric Laplace distribution\n",
    "    \"\"\"\n",
    "    dens = tau * (1 - tau) / sigma * np.exp(-(y - mu) * (tau - (y < mu)) / sigma)\n",
    "    if log:\n",
    "        return(np.log(dens))\n",
    "    else:\n",
    "        return(dens)\n",
    "\n",
    "def tanh (X, grad = False):\n",
    "    \"\"\"\n",
    "    Hyperbolic tangent function\n",
    "    \"\"\"\n",
    "    if grad:\n",
    "        return 1-np.tanh(X)**2\n",
    "    else:\n",
    "        return np.tanh(X)\n",
    "        \n",
    "\n",
    "def forward (X, weight, bias):\n",
    "    \"\"\"\n",
    "    Forward propagation\n",
    "    \"\"\"\n",
    "    out = X @ weight + bias \n",
    "    \n",
    "    return out\n",
    "\n",
    "def neural_net (X, W_1, b_1, W_2, b_2, W_3, b_3):\n",
    "    \"\"\"\n",
    "    Three layer feedforward neural network\n",
    "    \"\"\"\n",
    "    W_1 = np.reshape(W_1, (1,J))\n",
    "    W_2 = np.reshape(W_2, (J,K), 'F')\n",
    "    W_3 = np.reshape(W_3, (K,1))\n",
    "    hidden_one = tanh(forward(X, W_1, b_1))\n",
    "    hidden_two = tanh(forward(hidden_one, W_2, b_2))\n",
    "    output = forward(hidden_two, W_3, b_3)\n",
    "    return output"
   ]
  },
  {
   "cell_type": "markdown",
   "metadata": {},
   "source": [
    "Weight and bias parameters are given standard normal priors\n",
    "$$\n",
    "\\mathbf{W}\\sim N(0,1), \\ \\mathbf{b}\\sim N(0,1)\n",
    "$$\n",
    "and estimation is carried out by Hamilton Monte Carlo with Dual Averaging (Hoffman & Gelman 2011)."
   ]
  },
  {
   "cell_type": "code",
   "execution_count": 3,
   "metadata": {},
   "outputs": [],
   "source": [
    "def loglik (param, posterior = True):\n",
    "    \"\"\"\n",
    "    Observed log-likelihood \n",
    "    \"\"\"\n",
    "    W_1 = param[0:J]\n",
    "    b_1 = param[J:(2*J)]\n",
    "    W_2 = param[(2*J):(2*J+J*K)]\n",
    "    b_2 = param[(2*J+J*K):(2*J+J*K+K)]\n",
    "    W_3 = param[(2*J+J*K+K):(2*J+J*K+2*K)]\n",
    "    b_3 = param[2*J+J*K+2*K]\n",
    "    nn = neural_net(X, W_1, b_1, W_2, b_2, W_3, b_3)\n",
    "    diff = y - nn\n",
    "    if posterior:\n",
    "        loglik = np.sum(asymm_laplace(diff,0,sigma,tau,log = True)) + \\\n",
    "        np.sum(norm.logpdf(W_1)) + np.sum(norm.logpdf(b_1)) + \\\n",
    "        np.sum(norm.logpdf(W_2)) + np.sum(norm.logpdf(b_2)) + \\\n",
    "        np.sum(norm.logpdf(W_3)) + np.sum(norm.logpdf(b_3)) \n",
    "    else: \n",
    "        loglik = np.sum(asymm_laplace(diff,0,sigma,tau,log = True))\n",
    "    return loglik\n",
    "\n",
    "\n",
    "def loglik_grad (param):\n",
    "    \"\"\"\n",
    "    Empirical gradient\n",
    "    \"\"\"\n",
    "    W_1 = param[0:J]\n",
    "    b_1 = param[J:(2*J)]\n",
    "    W_2 = param[(2*J):(2*J+J*K)]\n",
    "    b_2 = param[(2*J+J*K):(2*J+J*K+K)]\n",
    "    W_3 = param[(2*J+J*K+K):(2*J+J*K+2*K)]\n",
    "    b_3 = param[2*J+J*K+2*K]\n",
    "    W_1 = np.reshape(W_1, (1,J))\n",
    "    W_2 = np.reshape(W_2, (J,K), 'F')\n",
    "    W_3 = np.reshape(W_3, (K,1))\n",
    "    layer_one = forward(X, W_1, b_1)\n",
    "    layer_two = forward(tanh(layer_one), W_2, b_2)\n",
    "    nn = forward(tanh(layer_two), W_3, b_3)\n",
    "    diff = y - nn\n",
    "    grad_param = np.empty(len(param))\n",
    "    grad_param[0:J] = 1/ sigma * np.sum((tau - (diff < 0)) * X * \\\n",
    "                                        tanh(layer_two,True) @ (W_3 * np.transpose(W_2)) * \\\n",
    "                                        tanh(layer_one,True),axis=0) - W_1\n",
    "    grad_param[J:(2*J)] = 1 / sigma * np.sum((tau - (diff < 0)) * \\\n",
    "                                             tanh(layer_two,True) @ (W_3 * np.transpose(W_2)) * \\\n",
    "                                             tanh(layer_one,True),axis=0) - b_1\n",
    "    grad_param[(2*J):(2*J+J*K)] = (1 / sigma * np.transpose(tanh(layer_one)) @ \\\n",
    "                                   ((tau-(diff<0)) * tanh(layer_two,True) * np.transpose(W_3)) - W_2).flatten(order='F')\n",
    "    grad_param[(2*J+J*K):(2*J+J*K+K)] = 1 / sigma * np.reshape(W_3 * np.transpose(tanh(layer_two,True)) @ \\\n",
    "                                                               (tau - (diff < 0)),(K,)) - b_2\n",
    "    grad_param[(2*J+J*K+K):(2*J+J*K+2*K)] = 1 / sigma * np.sum((tau - (diff < 0)) * \\\n",
    "                                                               tanh(layer_two),axis=0) - np.transpose(W_3)\n",
    "    grad_param[2*J+J*K+2*K] = 1 / sigma * np.sum(tau - (diff < 0)) - b_3\n",
    "    \n",
    "    return grad_param\n",
    "    \n",
    "    \n",
    "def find_start_ep (param):\n",
    "    \"\"\"\n",
    "    Find a good starting value for the step size\n",
    "    \"\"\"\n",
    "    q = param\n",
    "    epsilon = epsilon_ = 0.01\n",
    "    a_min = 0.25\n",
    "    a_cross = 0.5\n",
    "    a_max=  0.75\n",
    "    d = 2.\n",
    "    p = np.random.normal(size = len(q))\n",
    "    current_E = loglik(q) - np.sum(p ** 2) / 2\n",
    "    p = p + epsilon * loglik_grad(q) / 2\n",
    "    q = q + epsilon * p\n",
    "    p = p + epsilon * loglik_grad(q) / 2   \n",
    "    proposed_E = loglik(q) - np.sum(p ** 2) / 2\n",
    "    diff_E = proposed_E - current_E\n",
    "    direction = 2 * (diff_E > np.log(a_cross)) - 1\n",
    "    \n",
    "    while direction*diff_E > direction * np.log(a_cross):\n",
    "        epsilon = epsilon_\n",
    "        epsilon_ = d ** direction * epsilon\n",
    "        current_E = loglik(q) - np.sum(p ** 2) / 2\n",
    "        p = p + epsilon_ * loglik_grad(q) / 2\n",
    "        q = q + epsilon_ * p\n",
    "        p = p + epsilon_ * loglik_grad(q) / 2   \n",
    "        proposed_E = loglik(q) - np.sum(p ** 2) / 2     \n",
    "        diff_E = proposed_E - current_E\n",
    "        \n",
    "    ep = np.sort((epsilon, epsilon_))\n",
    "    epsilon, epsilon_ = ep\n",
    "    counter = 0\n",
    "    \n",
    "    while ((diff_E > np.log(a_max)) | (diff_E < np.log(a_min))) & (counter < 100):\n",
    "        \n",
    "        epsilon_m = (epsilon + epsilon_) / 2\n",
    "        current_E = loglik(q) - np.sum(p ** 2) / 2\n",
    "        p = p + epsilon * loglik_grad(q) / 2\n",
    "        q = q + epsilon * p\n",
    "        p = p + epsilon * loglik_grad(q) / 2   \n",
    "        proposed_E = loglik(q) - np.sum(p ** 2) / 2     \n",
    "        diff_E = proposed_E - current_E\n",
    "        \n",
    "        if np.abs(diff_E) >= 1e5:\n",
    "            epsilon = ep[0]\n",
    "            break\n",
    "        if diff_E > np.log(a_max):\n",
    "            epsilon = epsilon_m\n",
    "        elif diff_E < np.log(a_min):\n",
    "            epsilon_ = epsilon_m\n",
    "        else:\n",
    "            epsilon = epsilon_m\n",
    "            break\n",
    "        counter += 1\n",
    "    return epsilon\n",
    "    \n",
    "def hmc_samp (n_iter, n_adapt, inits, lam, delta):\n",
    "    \"\"\"\n",
    "    Hamiltonian Monte Carlo sampler with leap frog integrator\n",
    "    \"\"\"\n",
    "    print_step = np.int(n_iter/10)\n",
    "    samps = np.empty((n_iter, len(inits)))\n",
    "    log_ep = np.empty((n_iter,))\n",
    "    lp_ = np.empty((n_iter,))\n",
    "    log_ep_ = np.empty((n_adapt,))\n",
    "    samps[0,] = inits\n",
    "    lp_[0] = loglik(inits)\n",
    "    log_ep[0] = np.log(find_start_ep(inits))\n",
    "    mu = np.log(10*np.exp(log_ep[0]))\n",
    "    H = 0\n",
    "    gamma = 0.05\n",
    "    t = 10\n",
    "    kappa = 0.75\n",
    "    for it in range(1,n_iter):\n",
    "        current_q = samps[it-1,]\n",
    "        epsilon = np.exp(log_ep[it-1])\n",
    "        q = current_q\n",
    "        p = np.random.normal(size = len(q))\n",
    "        current_p = p\n",
    "        n_step = np.minimum(500,np.int(np.maximum(1,np.round(lam/epsilon))))\n",
    "        for l in range(0,n_step):\n",
    "            p = p + epsilon * loglik_grad(q) / 2\n",
    "            q = q + epsilon * p\n",
    "            p = p + epsilon * loglik_grad(q) / 2\n",
    "        p = -p\n",
    "        current_E = loglik(current_q) - np.sum(current_p ** 2) / 2\n",
    "        proposed_E = loglik(q) - np.sum(p ** 2) / 2\n",
    "        diff_K = proposed_E - current_E\n",
    "        alpha = np.exp(min(0,diff_K))\n",
    "        if np.log(np.random.uniform()) < diff_K:\n",
    "            current_q = q\n",
    "        lp_[it] = loglik(current_q, False)\n",
    "        samps[it,] = current_q\n",
    "        if it <= n_adapt-1:\n",
    "            H = (1 - 1 / (it + t)) * H + 1 / (it + t) * (delta - alpha)\n",
    "            log_ep[it] = mu - np.sqrt(it) / gamma*H\n",
    "            log_ep_[it] = it ** (-kappa) * log_ep[it] + (1 - it ** (-kappa)) * log_ep_[it-1]\n",
    "        else:\n",
    "            log_ep[it] = log_ep_[n_adapt-1]\n",
    "        if (it + 1) % print_step == 0:\n",
    "            print(it+1,\"iterations completed.\")\n",
    "        if (it + 1) == n_iter:\n",
    "            print(\"HMC sampling finished.\")\n",
    "    return samps, log_ep, lp_\n",
    "\n",
    "def create_inits ():\n",
    "    \"\"\"\n",
    "    Generate initial values\n",
    "    \"\"\"\n",
    "    W_1 = np.random.normal(size = J)\n",
    "    b_1 = np.random.normal(size = J)\n",
    "    W_2 = np.random.normal(size = J*K)\n",
    "    b_2 = np.random.normal(size = K)\n",
    "    W_3 = np.random.normal(size = K)\n",
    "    b_3 = np.random.normal(size = 1)\n",
    "    inits = np.concatenate((W_1,b_1,W_2,b_2, W_3, b_3))\n",
    "    inits = inits + np.random.uniform(-1,1,len(inits))\n",
    "    return inits"
   ]
  },
  {
   "cell_type": "markdown",
   "metadata": {},
   "source": [
    "## 2. Simulation"
   ]
  },
  {
   "cell_type": "markdown",
   "metadata": {},
   "source": [
    "To see if my algorithm works correctly, I will perform a simulation study with data generated from\n",
    "$$\n",
    "X\\sim U(-1,1), \\ Q_{\\tau}(y|X) = \\frac{\\Phi^{-1}(\\tau)}{2}+5(\\tau-0.5)X^2\n",
    "$$\n",
    "This data has strong heteroscedasticity, which is when inference using quantile regression is preferred. The 0.05, 0.1, ..., 0.95 quantiles are plotted below."
   ]
  },
  {
   "cell_type": "code",
   "execution_count": 4,
   "metadata": {},
   "outputs": [
    {
     "data": {
      "image/png": "[encoded data removed]",
      "text/plain": [
       "<Figure size 432x288 with 1 Axes>"
      ]
     },
     "metadata": {
      "needs_background": "light"
     },
     "output_type": "display_data"
    }
   ],
   "source": [
    "np.random.seed(591)\n",
    "X = np.sort(np.random.uniform(-1,1,300))\n",
    "tau_x = np.random.uniform(size = 300)\n",
    "y = 0.5*norm.ppf(tau_x)+5*(tau_x-0.5)*X**2\n",
    "plt.plot(X,y,'.')\n",
    "plt.xlabel('X')\n",
    "plt.ylabel('y')\n",
    "plt.title('Data from simulation')\n",
    "for i in np.linspace(0.05,0.95,19):\n",
    "    q = 0.5*norm.ppf(i)+5*(i-0.5)*X**2\n",
    "    plt.plot(X,q,'r-')\n",
    "plt.show()"
   ]
  },
  {
   "cell_type": "markdown",
   "metadata": {},
   "source": [
    "My goal is to estimate the $0.9$ quantile. I will first normalize $X$ to $[0, 1]$ and $y$ to $[-1, 1]$. The standard deviation $\\sigma$ in the asymmetric Laplace likelihood can be considered as a tuning parameter for the goodness of fit. Generally when there is no significant outliers $\\sigma$ should be small. Here it is chosen to be $0.1$."
   ]
  },
  {
   "cell_type": "code",
   "execution_count": 5,
   "metadata": {},
   "outputs": [],
   "source": [
    "X = np.reshape(X,(len(X),1))\n",
    "y = np.reshape(y,(len(y),1))\n",
    "\n",
    "max_X = np.max(X)\n",
    "min_X = np.min(X)\n",
    "max_y = np.max(y)\n",
    "min_y = np.min(y)\n",
    "\n",
    "X_s = X\n",
    "y_s = y\n",
    "\n",
    "X = (X - min_X)/(max_X - min_X)\n",
    "y = -1 + (y - min_y)*2/(max_y - min_y)\n",
    "\n",
    "tau = 0.9\n",
    "\n",
    "sigma = 0.1"
   ]
  },
  {
   "cell_type": "markdown",
   "metadata": {},
   "source": [
    "For each hidden layer in the neural net, I put 10 hidden neurons."
   ]
  },
  {
   "cell_type": "code",
   "execution_count": 6,
   "metadata": {},
   "outputs": [],
   "source": [
    "J = 10\n",
    "\n",
    "K = 10"
   ]
  },
  {
   "cell_type": "markdown",
   "metadata": {},
   "source": [
    "Run Hamilton Monte Carlo with 200 iterations. The first 100 is used to tune adaptively the step size of leap frog integrator."
   ]
  },
  {
   "cell_type": "code",
   "execution_count": 7,
   "metadata": {},
   "outputs": [
    {
     "name": "stdout",
     "output_type": "stream",
     "text": [
      "20 iterations completed.\n",
      "40 iterations completed.\n",
      "60 iterations completed.\n",
      "80 iterations completed.\n",
      "100 iterations completed.\n",
      "120 iterations completed.\n",
      "140 iterations completed.\n",
      "160 iterations completed.\n",
      "180 iterations completed.\n",
      "200 iterations completed.\n",
      "HMC sampling finished.\n"
     ]
    }
   ],
   "source": [
    "samps, log_ep, lp_ = hmc_samp(200,100,create_inits(),2,0.65)"
   ]
  },
  {
   "cell_type": "markdown",
   "metadata": {},
   "source": [
    "Check convergence of likelihood."
   ]
  },
  {
   "cell_type": "code",
   "execution_count": 8,
   "metadata": {},
   "outputs": [
    {
     "data": {
      "text/plain": [
       "[Text(0.5, 0, 'Iterations')]"
      ]
     },
     "execution_count": 8,
     "metadata": {},
     "output_type": "execute_result"
    },
    {
     "data": {
      "image/png": "[encoded data removed]",
      "text/plain": [
       "<Figure size 432x288 with 2 Axes>"
      ]
     },
     "metadata": {
      "needs_background": "light"
     },
     "output_type": "display_data"
    }
   ],
   "source": [
    "fig, axs = plt.subplots(2)\n",
    "fig.suptitle('Loglikelihood Trace')\n",
    "axs[0].plot(range(1,201),lp_)\n",
    "axs[1].plot(range(21,201),lp_[20:200])\n",
    "axs[1].set(xlabel='Iterations')"
   ]
  },
  {
   "cell_type": "markdown",
   "metadata": {},
   "source": [
    "Let's make an animation for the estimated 0.9 quantile of all iterations "
   ]
  },
  {
   "cell_type": "code",
   "execution_count": 9,
   "metadata": {},
   "outputs": [],
   "source": [
    "def init():\n",
    "    plt.plot(X_s, y_s, 'k.')\n",
    "    line.set_data([], [])\n",
    "    return line,\n",
    "\n",
    "def animate(i):\n",
    "    plt_param = samps[i,]\n",
    "    W_1 = plt_param[0:J]\n",
    "    b_1 = plt_param[J:(2*J)]\n",
    "    W_2 = plt_param[(2*J):(2*J+J*K)]\n",
    "    b_2 = plt_param[(2*J+J*K):(2*J+J*K+K)]\n",
    "    W_3 = plt_param[(2*J+J*K+K):(2*J+J*K+2*K)]\n",
    "    b_3 = plt_param[2*J+J*K+2*K]\n",
    "    nn = neural_net(X,W_1,b_1,W_2,b_2,W_3,b_3)\n",
    "    q_plt = (nn+1)*(max_y-min_y)/2+min_y\n",
    "    line.set_data(X_s, q_plt)\n",
    "    return line,"
   ]
  },
  {
   "cell_type": "code",
   "execution_count": 10,
   "metadata": {
    "scrolled": false
   },
   "outputs": [],
   "source": [
    "%%capture\n",
    "fig = plt.figure()\n",
    "ax = plt.axes(xlim=(min_X, max_X), ylim=(min_y, max_y))\n",
    "line, = ax.plot([], [])\n",
    "plt.xlabel('X')\n",
    "plt.ylabel('y')\n",
    "anim = animation.FuncAnimation(fig, animate, init_func=init,\n",
    "                               frames=200, interval=100, blit=True)\n",
    "q_true = 0.5*norm.ppf(0.9)+5*(0.9-0.5)*X_s**2\n",
    "plt.plot(X_s,q_true,'r-',label = \"True\")\n",
    "plt.title(\"Convergence of estimated 0.9 quantile\")\n",
    "anim.save(\"591Sim.mp4\")"
   ]
  },
  {
   "cell_type": "markdown",
   "metadata": {},
   "source": [
    "![SegmentLocal](591Sim.gif \"segment\")"
   ]
  },
  {
   "cell_type": "markdown",
   "metadata": {},
   "source": [
    "I will use the median of the last 100 iterations as my estimation."
   ]
  },
  {
   "cell_type": "code",
   "execution_count": 12,
   "metadata": {},
   "outputs": [
    {
     "data": {
      "text/plain": [
       "<matplotlib.legend.Legend at 0x1c92061b550>"
      ]
     },
     "execution_count": 12,
     "metadata": {},
     "output_type": "execute_result"
    },
    {
     "data": {
      "image/png": "[encoded data removed]",
      "text/plain": [
       "<Figure size 432x288 with 1 Axes>"
      ]
     },
     "metadata": {
      "needs_background": "light"
     },
     "output_type": "display_data"
    }
   ],
   "source": [
    "est_samp = samps[100:200,]\n",
    "est_q = np.empty((100,len(X)))\n",
    "for i in range(0,100):\n",
    "    cur_param = est_samp[i,]\n",
    "    W_1 = cur_param[0:J]\n",
    "    b_1 = cur_param[J:(2*J)]\n",
    "    W_2 = cur_param[(2*J):(2*J+J*K)]\n",
    "    b_2 = cur_param[(2*J+J*K):(2*J+J*K+K)]\n",
    "    W_3 = cur_param[(2*J+J*K+K):(2*J+J*K+2*K)]\n",
    "    b_3 = cur_param[2*J+J*K+2*K]\n",
    "    nn = neural_net(X,W_1,b_1,W_2,b_2,W_3,b_3)\n",
    "    est_q[i,] = np.reshape((nn+1)*(max_y-min_y)/2+min_y,(len(X),))\n",
    "\n",
    "est_q = np.median(est_q, axis = 0)\n",
    "\n",
    "plt.plot(X_s,y_s,'k.')\n",
    "plt.plot(X_s,q_true,'r-',label='True')\n",
    "plt.plot(X_s,est_q,'b-',label='Estimate')\n",
    "plt.legend()"
   ]
  },
  {
   "cell_type": "markdown",
   "metadata": {},
   "source": [
    "## 3. Application"
   ]
  },
  {
   "cell_type": "markdown",
   "metadata": {},
   "source": [
    "I applied my implementation on the motorcycle accident data (Silverman 1985)."
   ]
  },
  {
   "cell_type": "code",
   "execution_count": 13,
   "metadata": {},
   "outputs": [
    {
     "data": {
      "text/html": [
       "<div>\n",
       "<style scoped>\n",
       "    .dataframe tbody tr th:only-of-type {\n",
       "        vertical-align: middle;\n",
       "    }\n",
       "\n",
       "    .dataframe tbody tr th {\n",
       "        vertical-align: top;\n",
       "    }\n",
       "\n",
       "    .dataframe thead th {\n",
       "        text-align: right;\n",
       "    }\n",
       "</style>\n",
       "<table border=\"1\" class=\"dataframe\">\n",
       "  <thead>\n",
       "    <tr style=\"text-align: right;\">\n",
       "      <th></th>\n",
       "      <th>times</th>\n",
       "      <th>accel</th>\n",
       "    </tr>\n",
       "  </thead>\n",
       "  <tbody>\n",
       "    <tr>\n",
       "      <th>0</th>\n",
       "      <td>2.4</td>\n",
       "      <td>0.0</td>\n",
       "    </tr>\n",
       "    <tr>\n",
       "      <th>1</th>\n",
       "      <td>2.6</td>\n",
       "      <td>-1.3</td>\n",
       "    </tr>\n",
       "    <tr>\n",
       "      <th>2</th>\n",
       "      <td>3.2</td>\n",
       "      <td>-2.7</td>\n",
       "    </tr>\n",
       "    <tr>\n",
       "      <th>3</th>\n",
       "      <td>3.6</td>\n",
       "      <td>0.0</td>\n",
       "    </tr>\n",
       "    <tr>\n",
       "      <th>4</th>\n",
       "      <td>4.0</td>\n",
       "      <td>-2.7</td>\n",
       "    </tr>\n",
       "  </tbody>\n",
       "</table>\n",
       "</div>"
      ],
      "text/plain": [
       "   times  accel\n",
       "0    2.4    0.0\n",
       "1    2.6   -1.3\n",
       "2    3.2   -2.7\n",
       "3    3.6    0.0\n",
       "4    4.0   -2.7"
      ]
     },
     "execution_count": 13,
     "metadata": {},
     "output_type": "execute_result"
    }
   ],
   "source": [
    "motor = read_csv('motor.csv')\n",
    "motor.head()"
   ]
  },
  {
   "cell_type": "markdown",
   "metadata": {},
   "source": [
    "Again X nad y are normalized to $[0,1]$ and $[-1,1]$ respectively."
   ]
  },
  {
   "cell_type": "code",
   "execution_count": 14,
   "metadata": {},
   "outputs": [],
   "source": [
    "X = np.array(motor['times'])\n",
    "X = np.reshape(X,(len(X),1))\n",
    "y = np.array(motor['accel'])\n",
    "y = np.reshape(y,(len(y),1))\n",
    "\n",
    "max_X = np.max(X)\n",
    "min_X = np.min(X)\n",
    "max_y = np.max(y)\n",
    "min_y = np.min(y)\n",
    "\n",
    "X_s = X\n",
    "y_s = y\n",
    "\n",
    "X = (X - min_X)/(max_X - min_X)\n",
    "y = -1 + (y - min_y)*2/(max_y - min_y)"
   ]
  },
  {
   "cell_type": "code",
   "execution_count": 15,
   "metadata": {},
   "outputs": [
    {
     "data": {
      "image/png": "[encoded data removed]",
      "text/plain": [
       "<Figure size 432x288 with 1 Axes>"
      ]
     },
     "metadata": {
      "needs_background": "light"
     },
     "output_type": "display_data"
    }
   ],
   "source": [
    "plt.plot('times', 'accel', '.', data = motor)\n",
    "plt.xlabel('Time')\n",
    "plt.ylabel('Acceleration')\n",
    "plt.title('Data From A Simulated Motorcycle Accident')\n",
    "plt.show()"
   ]
  },
  {
   "cell_type": "markdown",
   "metadata": {},
   "source": [
    "Let's estimate the 0.3 quantile this time. This is time I set $\\sigma = 0.08$. Other specifications are unchanged."
   ]
  },
  {
   "cell_type": "code",
   "execution_count": 16,
   "metadata": {},
   "outputs": [],
   "source": [
    "tau = 0.3\n",
    "\n",
    "sigma = 0.08"
   ]
  },
  {
   "cell_type": "code",
   "execution_count": 17,
   "metadata": {},
   "outputs": [
    {
     "name": "stdout",
     "output_type": "stream",
     "text": [
      "20 iterations completed.\n",
      "40 iterations completed.\n",
      "60 iterations completed.\n",
      "80 iterations completed.\n",
      "100 iterations completed.\n",
      "120 iterations completed.\n",
      "140 iterations completed.\n",
      "160 iterations completed.\n",
      "180 iterations completed.\n",
      "200 iterations completed.\n",
      "HMC sampling finished.\n"
     ]
    }
   ],
   "source": [
    "samps, log_ep, lp_ = hmc_samp(200,100,create_inits(),2,0.65)"
   ]
  },
  {
   "cell_type": "markdown",
   "metadata": {},
   "source": [
    "Check convergence of likelihood."
   ]
  },
  {
   "cell_type": "code",
   "execution_count": 18,
   "metadata": {},
   "outputs": [
    {
     "data": {
      "text/plain": [
       "[Text(0.5, 0, 'Iterations')]"
      ]
     },
     "execution_count": 18,
     "metadata": {},
     "output_type": "execute_result"
    },
    {
     "data": {
      "image/png": "[encoded data removed]",
      "text/plain": [
       "<Figure size 432x288 with 2 Axes>"
      ]
     },
     "metadata": {
      "needs_background": "light"
     },
     "output_type": "display_data"
    }
   ],
   "source": [
    "fig, axs = plt.subplots(2)\n",
    "fig.suptitle('Loglikelihood Trace')\n",
    "axs[0].plot(range(1,201),lp_)\n",
    "axs[1].plot(range(21,201),lp_[20:200])\n",
    "axs[1].set(xlabel='Iterations')"
   ]
  },
  {
   "cell_type": "code",
   "execution_count": 19,
   "metadata": {},
   "outputs": [],
   "source": [
    "%%capture\n",
    "fig = plt.figure()\n",
    "ax = plt.axes(xlim=(min_X, max_X), ylim=(min_y, max_y))\n",
    "line, = ax.plot([], [])\n",
    "plt.xlabel('Time')\n",
    "plt.ylabel('Acceleration')\n",
    "anim = animation.FuncAnimation(fig, animate, init_func=init,\n",
    "                               frames=200, interval=100, blit=True)\n",
    "plt.title(\"Convergence of estimated 0.3 quantile\")\n",
    "anim.save(\"591App.mp4\")"
   ]
  },
  {
   "cell_type": "markdown",
   "metadata": {},
   "source": [
    "![SegmentLocal](591App.gif \"segment\")"
   ]
  },
  {
   "cell_type": "code",
   "execution_count": 21,
   "metadata": {},
   "outputs": [
    {
     "data": {
      "text/plain": [
       "<matplotlib.legend.Legend at 0x1c91f45e390>"
      ]
     },
     "execution_count": 21,
     "metadata": {},
     "output_type": "execute_result"
    },
    {
     "data": {
      "image/png": "[encoded data removed]",
      "text/plain": [
       "<Figure size 432x288 with 1 Axes>"
      ]
     },
     "metadata": {
      "needs_background": "light"
     },
     "output_type": "display_data"
    }
   ],
   "source": [
    "est_samp = samps[100:200,]\n",
    "est_q = np.empty((100,len(X)))\n",
    "for i in range(0,100):\n",
    "    cur_param = est_samp[i,]\n",
    "    W_1 = cur_param[0:J]\n",
    "    b_1 = cur_param[J:(2*J)]\n",
    "    W_2 = cur_param[(2*J):(2*J+J*K)]\n",
    "    b_2 = cur_param[(2*J+J*K):(2*J+J*K+K)]\n",
    "    W_3 = cur_param[(2*J+J*K+K):(2*J+J*K+2*K)]\n",
    "    b_3 = cur_param[2*J+J*K+2*K]\n",
    "    nn = neural_net(X,W_1,b_1,W_2,b_2,W_3,b_3)\n",
    "    est_q[i,] = np.reshape((nn+1)*(max_y-min_y)/2+min_y,(len(X),))\n",
    "\n",
    "est_q = np.median(est_q, axis = 0)\n",
    "plt.plot(X_s,y_s,'k.')\n",
    "plt.plot(X_s,est_q,'b-',label='Estimate')\n",
    "plt.title('Data from A Simulated Motorcycle Accident')\n",
    "plt.legend(loc = 'lower right')"
   ]
  },
  {
   "cell_type": "markdown",
   "metadata": {},
   "source": [
    "## Reference"
   ]
  },
  {
   "cell_type": "markdown",
   "metadata": {},
   "source": [
    "1. Hoffman, MD and Gelman, A (2014). “The No-U-Turn Sampler: Adaptively Setting Path Lengths in Hamiltonian Monte Carlo.” *Journal of Machine Learning Research*, 15, 1593–1623.\n",
    "2. Silverman, B. W. (1985) \"Some aspects of the spline smoothing approach to non-parametric curve fitting.\" *Journal of the Royal Statistical Society series* B 47, 1–52.\n",
    "3. Yu, K and Moyeed, R. A. (2001), “Bayesian quantile regression.” *Statistics & Probability Letters*, vol. 54, no. 4, pp. 437–447."
   ]
  }
 ],
 "metadata": {
  "kernelspec": {
   "display_name": "Python 3",
   "language": "python",
   "name": "python3"
  },
  "language_info": {
   "codemirror_mode": {
    "name": "ipython",
    "version": 3
   },
   "file_extension": ".py",
   "mimetype": "text/x-python",
   "name": "python",
   "nbconvert_exporter": "python",
   "pygments_lexer": "ipython3",
   "version": "3.7.3"
  }
 },
 "nbformat": 4,
 "nbformat_minor": 2
}
