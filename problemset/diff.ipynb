{
 "cells": [
  {
   "cell_type": "markdown",
   "metadata": {},
   "source": [
    "Import necessary modules."
   ]
  },
  {
   "cell_type": "code",
   "execution_count": 1,
   "metadata": {},
   "outputs": [],
   "source": [
    "import numpy as np"
   ]
  },
  {
   "cell_type": "markdown",
   "metadata": {},
   "source": [
    "## (a)"
   ]
  },
  {
   "cell_type": "markdown",
   "metadata": {},
   "source": [
    "Implement the numerical differentiation $f'(x)\\approx\\frac{f(x+h)-f(x-h)}{2h}$."
   ]
  },
  {
   "cell_type": "code",
   "execution_count": 2,
   "metadata": {},
   "outputs": [],
   "source": [
    "def diff(f, x, h = 1e-5):\n",
    "    return (f(x + h) - f(x - h)) / (2 * h)"
   ]
  },
  {
   "cell_type": "markdown",
   "metadata": {},
   "source": [
    "## (b)"
   ]
  },
  {
   "cell_type": "markdown",
   "metadata": {},
   "source": [
    "Let's test our implementation."
   ]
  },
  {
   "cell_type": "code",
   "execution_count": 3,
   "metadata": {},
   "outputs": [],
   "source": [
    "def test_diff(f, df, h, x = 0, tol = 1e-8):\n",
    "    \"\"\"\n",
    "    Test if the numerical derivative agrees with analytical derivative\n",
    "    f: target function to be differentiated\n",
    "    df: analytical derivative of f\n",
    "    x: point of differentiation\n",
    "    h: step size\n",
    "    tol: equality metric\n",
    "    \"\"\"\n",
    "    print('Approximating with h = %.12g.'%(h))\n",
    "    delta = abs(diff(f, x, h) - df(x))\n",
    "    if delta < tol:\n",
    "        print('The difference is smaller than %.12g.'%(tol))\n",
    "        return True\n",
    "    else: \n",
    "        print('The difference is greater than %.12g.'%(tol))\n",
    "        return False"
   ]
  },
  {
   "cell_type": "markdown",
   "metadata": {},
   "source": [
    "Using the fact that approximation is exact for quadratic function."
   ]
  },
  {
   "cell_type": "code",
   "execution_count": 4,
   "metadata": {},
   "outputs": [],
   "source": [
    "def fq(x, a = 1, b = 2, c = 1):\n",
    "    \"\"\"\n",
    "    quadratic function\n",
    "    \"\"\"\n",
    "    return a * x ** 2 + b * x + c\n",
    "\n",
    "def dfq(x, a = 1, b = 2):\n",
    "    \"\"\"\n",
    "    derivative of quadratic function\n",
    "    \"\"\"\n",
    "    return 2 * a * x + b"
   ]
  },
  {
   "cell_type": "markdown",
   "metadata": {},
   "source": [
    "I will use tolerance of $10^{-8}$ and varying $h$."
   ]
  },
  {
   "cell_type": "code",
   "execution_count": 5,
   "metadata": {},
   "outputs": [
    {
     "name": "stdout",
     "output_type": "stream",
     "text": [
      "Approximating with h = 1e-07.\n",
      "The difference is smaller than 1e-08.\n",
      "Approximating with h = 1e-06.\n",
      "The difference is smaller than 1e-08.\n",
      "Approximating with h = 1e-05.\n",
      "The difference is smaller than 1e-08.\n",
      "Approximating with h = 0.0001.\n",
      "The difference is smaller than 1e-08.\n",
      "Approximating with h = 0.001.\n",
      "The difference is smaller than 1e-08.\n",
      "Approximating with h = 0.01.\n",
      "The difference is smaller than 1e-08.\n",
      "Approximating with h = 0.1.\n",
      "The difference is smaller than 1e-08.\n",
      "Approximating with h = 1.\n",
      "The difference is smaller than 1e-08.\n",
      "[True, True, True, True, True, True, True, True]\n"
     ]
    }
   ],
   "source": [
    "H = 10**np.linspace(-7,0,8)\n",
    "res = []\n",
    "for i in range(8):\n",
    "    h =  H[i]\n",
    "    res.append(test_diff(fq, dfq, h, tol = 1e-8))\n",
    "print(res)"
   ]
  }
 ],
 "metadata": {
  "kernelspec": {
   "display_name": "Python 3",
   "language": "python",
   "name": "python3"
  },
  "language_info": {
   "codemirror_mode": {
    "name": "ipython",
    "version": 3
   },
   "file_extension": ".py",
   "mimetype": "text/x-python",
   "name": "python",
   "nbconvert_exporter": "python",
   "pygments_lexer": "ipython3",
   "version": "3.7.3"
  }
 },
 "nbformat": 4,
 "nbformat_minor": 2
}
