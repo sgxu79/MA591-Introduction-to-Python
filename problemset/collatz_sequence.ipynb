{
 "cells": [
  {
   "cell_type": "code",
   "execution_count": 1,
   "metadata": {},
   "outputs": [],
   "source": [
    "def collatz(x):\n",
    "    \"\"\"\n",
    "    Generate the collatz sequence\n",
    "    \"\"\"\n",
    "    seq = [x]\n",
    "    while (x != 1):\n",
    "        if (x % 2 == 0): \n",
    "            x = x / 2\n",
    "        else: \n",
    "            x = 3 * x + 1\n",
    "        seq.append(x)\n",
    "    return(len(seq))"
   ]
  },
  {
   "cell_type": "code",
   "execution_count": 2,
   "metadata": {},
   "outputs": [],
   "source": [
    "for i in range(1, 1000000):\n",
    "    \"\"\"\n",
    "    Iterate through 1 to 1e6 - 1\n",
    "    \"\"\"\n",
    "    if i == 1:\n",
    "        res = (1,1)\n",
    "    else:\n",
    "        clen = collatz(i)\n",
    "        if clen > res[1]: \n",
    "            res = (i, clen)"
   ]
  },
  {
   "cell_type": "code",
   "execution_count": 3,
   "metadata": {},
   "outputs": [
    {
     "name": "stdout",
     "output_type": "stream",
     "text": [
      "The number that produced the longest chain is 837799 with a chain length of 525 .\n"
     ]
    }
   ],
   "source": [
    "print('The number that produced the longest chain is', res[0], 'with a chain length of',res[1], '.')"
   ]
  }
 ],
 "metadata": {
  "kernelspec": {
   "display_name": "Python 3",
   "language": "python",
   "name": "python3"
  },
  "language_info": {
   "codemirror_mode": {
    "name": "ipython",
    "version": 3
   },
   "file_extension": ".py",
   "mimetype": "text/x-python",
   "name": "python",
   "nbconvert_exporter": "python",
   "pygments_lexer": "ipython3",
   "version": "3.7.3"
  }
 },
 "nbformat": 4,
 "nbformat_minor": 2
}
