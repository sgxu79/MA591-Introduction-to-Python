{
 "cells": [
  {
   "cell_type": "code",
   "execution_count": 1,
   "metadata": {},
   "outputs": [],
   "source": [
    "from math import pi, sqrt\n",
    "\n",
    "class Ellipse:\n",
    "    \"\"\"\n",
    "    Ellipse centered at x0, y0 with wdith and heigh 2a, 2b is defined by \n",
    "    the equation(x-x0)^2/a^2 + (y-y0)^2/b^2 = 1\n",
    "    \"\"\"\n",
    "    \n",
    "    def __init__(self, x0, y0, a, b):\n",
    "        self.x0, self.y0, self.a, self.b = x0, y0, a, b\n",
    "        \n",
    "    def area(self):\n",
    "        \"\"\"\n",
    "        A = pi*a*b \n",
    "        \"\"\"\n",
    "        return pi*self.a*self.b\n",
    "    \n",
    "    def circumference(self):\n",
    "        \"\"\"\n",
    "        Approximation by Ramanujan, exact for circles\n",
    "        \"\"\"\n",
    "        h = (self.a-self.b)**2/(self.a+self.b)**2\n",
    "        return pi*(self.a+self.b)*(1+3*h/(10+sqrt(4-3*h)))\n",
    "    \n",
    "class Circle(Ellipse):\n",
    "    \"\"\"\n",
    "    Circle centered at x0, y0 with radius r is defined by the equation\n",
    "    (x-x0)^2+(y-y0)^2=r^2\n",
    "    \"\"\"\n",
    "    \n",
    "    def __init__(self, x0, y0, r):\n",
    "        self.r = r\n",
    "        Ellipse.__init__(self, x0, y0, a=self.r, b=self.r)"
   ]
  },
  {
   "cell_type": "code",
   "execution_count": 2,
   "metadata": {},
   "outputs": [
    {
     "name": "stdout",
     "output_type": "stream",
     "text": [
      "A ellipse with width 2 and height 4 at (0, 0) has area 6.28318530718 and perimeter 9.68844821613\n"
     ]
    }
   ],
   "source": [
    "el = Ellipse(0,0,1,2)\n",
    "\n",
    "\n",
    "print('A ellipse with width %.12g and height %.12g at (%.12g, %.12g) has area %.12g and perimeter %.12g'% \\\n",
    "      (2*el.a, 2*el.b, el.x0, el.y0, el.area(), el.circumference())) "
   ]
  },
  {
   "cell_type": "code",
   "execution_count": 3,
   "metadata": {},
   "outputs": [
    {
     "name": "stdout",
     "output_type": "stream",
     "text": [
      "A circle with radius 2 at (1, 2) has area 12.5663706144 and perimeter 12.5663706144\n"
     ]
    }
   ],
   "source": [
    "c = Circle(1,2,2)\n",
    "\n",
    "\n",
    "print('A circle with radius %.12g at (%.12g, %.12g) has area %.12g and perimeter %.12g'% \\\n",
    "      (c.r, c.x0, c.y0, c.area(), c.circumference())) \n"
   ]
  }
 ],
 "metadata": {
  "kernelspec": {
   "display_name": "Python 3",
   "language": "python",
   "name": "python3"
  },
  "language_info": {
   "codemirror_mode": {
    "name": "ipython",
    "version": 3
   },
   "file_extension": ".py",
   "mimetype": "text/x-python",
   "name": "python",
   "nbconvert_exporter": "python",
   "pygments_lexer": "ipython3",
   "version": "3.7.3"
  }
 },
 "nbformat": 4,
 "nbformat_minor": 2
}
